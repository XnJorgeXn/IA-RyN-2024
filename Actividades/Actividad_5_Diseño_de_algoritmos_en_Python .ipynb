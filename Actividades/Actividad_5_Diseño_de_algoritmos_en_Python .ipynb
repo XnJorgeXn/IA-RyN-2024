{
  "nbformat": 4,
  "nbformat_minor": 0,
  "metadata": {
    "colab": {
      "provenance": []
    },
    "kernelspec": {
      "name": "python3",
      "display_name": "Python 3"
    },
    "language_info": {
      "name": "python"
    }
  },
  "cells": [
    {
      "cell_type": "markdown",
      "source": [
        "**Actividad 5: Diseño de algoritmos en Python**"
      ],
      "metadata": {
        "id": "2N96qjZIiGO7"
      }
    },
    {
      "cell_type": "code",
      "execution_count": 3,
      "metadata": {
        "id": "rFUlziMRiFUY",
        "colab": {
          "base_uri": "https://localhost:8080/"
        },
        "outputId": "2f4f33ca-3325-4e29-8849-96e54a7a9546"
      },
      "outputs": [
        {
          "output_type": "stream",
          "name": "stdout",
          "text": [
            "¿Cuál es tu nombre? Ana\n",
            "Lo siento, no puedo saludarte.\n"
          ]
        }
      ],
      "source": [
        "# 1. Algoritmo para saludar al usuario excepto si se llama Ana, Juan o Pedro\n",
        "\n",
        "nombre = input(\"¿Cuál es tu nombre? \")\n",
        "\n",
        "if nombre in [\"Ana\", \"Juan\", \"Pedro\"]:\n",
        "    print(\"Lo siento, no puedo saludarte.\")\n",
        "else:\n",
        "    print(f\"Hola, {nombre}!\")\n"
      ]
    },
    {
      "cell_type": "code",
      "source": [
        "# 2. Función para invertir una lista\n",
        "\n",
        "def invertir_lista():\n",
        "    n = int(input(\"¿Cuántos elementos tendrá la lista? \"))\n",
        "    lista = []\n",
        "\n",
        "    for i in range(n):\n",
        "        elemento = input(f\"Introduce el elemento {i + 1}: \")\n",
        "        lista.append(elemento)\n",
        "\n",
        "    lista_invertida = lista[::-1]\n",
        "    print(\"Lista invertida:\", lista_invertida)\n",
        "\n",
        "invertir_lista()\n",
        "3"
      ],
      "metadata": {
        "colab": {
          "base_uri": "https://localhost:8080/"
        },
        "id": "k5CYKhbhieax",
        "outputId": "5e26ce8c-70b5-45ef-893d-3f10e3e37a18"
      },
      "execution_count": 4,
      "outputs": [
        {
          "output_type": "stream",
          "name": "stdout",
          "text": [
            "¿Cuántos elementos tendrá la lista? 2\n",
            "Introduce el elemento 1: 5\n",
            "Introduce el elemento 2: 10\n",
            "Lista invertida: ['10', '5']\n"
          ]
        },
        {
          "output_type": "execute_result",
          "data": {
            "text/plain": [
              "3"
            ]
          },
          "metadata": {},
          "execution_count": 4
        }
      ]
    },
    {
      "cell_type": "code",
      "source": [
        "# 3. Generar números de la serie de Fibonacci\n",
        "\n",
        "def generar_fibonacci():\n",
        "    n = int(input(\"¿Cuántos números de la serie de Fibonacci deseas generar? \"))\n",
        "    fibonacci = [0, 1]\n",
        "\n",
        "    for i in range(2, n):\n",
        "        siguiente = fibonacci[-1] + fibonacci[-2]\n",
        "        fibonacci.append(siguiente)\n",
        "\n",
        "    print(f\"Serie de Fibonacci ({n} números):\", fibonacci[:n])\n",
        "\n",
        "generar_fibonacci()\n"
      ],
      "metadata": {
        "colab": {
          "base_uri": "https://localhost:8080/"
        },
        "id": "qptr-GW-izrl",
        "outputId": "43a598a7-fedf-4d64-f6ec-6372bb1b2d6e"
      },
      "execution_count": 6,
      "outputs": [
        {
          "output_type": "stream",
          "name": "stdout",
          "text": [
            "¿Cuántos números de la serie de Fibonacci deseas generar? 5\n",
            "Serie de Fibonacci (5 números): [0, 1, 1, 2, 3]\n"
          ]
        }
      ]
    },
    {
      "cell_type": "code",
      "source": [
        "# 4. Juego de adivinar el número\n",
        "\n",
        "import random\n",
        "\n",
        "def adivina_el_numero():\n",
        "    numero_secreto = random.randint(1, 100)\n",
        "    intento = None\n",
        "\n",
        "    while intento != numero_secreto:\n",
        "        intento = int(input(\"Adivina el número (entre 1 y 100): \"))\n",
        "\n",
        "        if intento < numero_secreto:\n",
        "            print(\"El número es mayor.\")\n",
        "        elif intento > numero_secreto:\n",
        "            print(\"El número es menor.\")\n",
        "\n",
        "    print(\"¡Felicidades! Adivinaste el número.\")\n",
        "\n",
        "adivina_el_numero()\n"
      ],
      "metadata": {
        "id": "_fGJFdTQjkFX",
        "colab": {
          "base_uri": "https://localhost:8080/"
        },
        "outputId": "f642c18f-9e7c-4ccc-9b8b-95a50349cd18"
      },
      "execution_count": 7,
      "outputs": [
        {
          "output_type": "stream",
          "name": "stdout",
          "text": [
            "Adivina el número (entre 1 y 100): 50\n",
            "El número es menor.\n",
            "Adivina el número (entre 1 y 100): 50\n",
            "El número es menor.\n",
            "Adivina el número (entre 1 y 100): 40\n",
            "El número es mayor.\n",
            "Adivina el número (entre 1 y 100): 110\n",
            "El número es menor.\n",
            "Adivina el número (entre 1 y 100): 200\n",
            "El número es menor.\n",
            "Adivina el número (entre 1 y 100): 55\n",
            "El número es menor.\n",
            "Adivina el número (entre 1 y 100): 51\n",
            "El número es menor.\n",
            "Adivina el número (entre 1 y 100): 49\n",
            "El número es menor.\n",
            "Adivina el número (entre 1 y 100): 45\n",
            "El número es menor.\n",
            "Adivina el número (entre 1 y 100): 43\n",
            "¡Felicidades! Adivinaste el número.\n"
          ]
        }
      ]
    },
    {
      "cell_type": "code",
      "source": [
        "# 5. Números primos en un rango dado\n",
        "\n",
        "def es_primo(numero):\n",
        "    if numero < 2:\n",
        "        return False\n",
        "    for i in range(2, int(numero ** 0.5) + 1):\n",
        "        if numero % i == 0:\n",
        "            return False\n",
        "    return True\n",
        "\n",
        "def primos_en_rango():\n",
        "    inicio = int(input(\"Introduce el inicio del rango: \"))\n",
        "    fin = int(input(\"Introduce el fin del rango: \"))\n",
        "\n",
        "    primos = [numero for numero in range(inicio, fin + 1) if es_primo(numero)]\n",
        "    print(f\"Números primos entre {inicio} y {fin}: {primos}\")\n",
        "\n",
        "primos_en_rango()\n"
      ],
      "metadata": {
        "colab": {
          "base_uri": "https://localhost:8080/"
        },
        "id": "hVfeZ_3gi8q7",
        "outputId": "99b9dab8-bd15-4f80-f78d-a8bc5360f7a9"
      },
      "execution_count": null,
      "outputs": [
        {
          "output_type": "stream",
          "name": "stdout",
          "text": [
            "Introduce el inicio del rango: 50\n",
            "Introduce el fin del rango: 60\n",
            "Números primos entre 50 y 60: [53, 59]\n"
          ]
        }
      ]
    },
    {
      "cell_type": "code",
      "source": [
        "# 6. Calculadora básica\n",
        "\n",
        "def suma(a, b):\n",
        "    return a + b\n",
        "\n",
        "def resta(a, b):\n",
        "    return a - b\n",
        "\n",
        "def multiplicacion(a, b):\n",
        "    return a * b\n",
        "\n",
        "def division(a, b):\n",
        "    return a / b if b != 0 else \"Error: División por cero\"\n",
        "\n",
        "def calculadora_basica():\n",
        "    num1 = float(input(\"Introduce el primer número: \"))\n",
        "    num2 = float(input(\"Introduce el segundo número: \"))\n",
        "\n",
        "    print(f\"Suma: {suma(num1, num2)}\")\n",
        "    print(f\"Resta: {resta(num1, num2)}\")\n",
        "    print(f\"Multiplicación: {multiplicacion(num1, num2)}\")\n",
        "    print(f\"División: {division(num1, num2)}\")\n",
        "\n",
        "calculadora_basica()\n"
      ],
      "metadata": {
        "id": "0bkYZ0Y1jr-F",
        "colab": {
          "base_uri": "https://localhost:8080/"
        },
        "outputId": "046bb89e-f550-47d1-df88-a64467fa98a2"
      },
      "execution_count": 8,
      "outputs": [
        {
          "output_type": "stream",
          "name": "stdout",
          "text": [
            "Introduce el primer número: 40\n",
            "Introduce el segundo número: 50\n",
            "Suma: 90.0\n",
            "Resta: -10.0\n",
            "Multiplicación: 2000.0\n",
            "División: 0.8\n"
          ]
        }
      ]
    }
  ]
}